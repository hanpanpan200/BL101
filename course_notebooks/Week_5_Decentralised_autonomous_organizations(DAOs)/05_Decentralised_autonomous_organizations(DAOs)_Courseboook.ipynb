{
 "cells": [
  {
   "cell_type": "markdown",
   "metadata": {},
   "source": [
    "[![Open In Colab](https://colab.research.google.com/assets/colab-badge.svg)](https://colab.research.google.com/github/unpackAI/BL101/blob/main/course_notebooks/Week_5_Decentralised_autonomous_organizations%28DAOs%29/05_Decentralised_autonomous_organizations%28DAOs%29_Courseboook.ipynb)"
   ]
  },
  {
   "cell_type": "markdown",
   "metadata": {},
   "source": [
    "# 💻Welcome to Week 5 of the BC101 Bootcamp \n",
    "\n",
    "You have successfully finished the forth week! You are almost at the end of this Bootcamp. Having covered the main areas of application, we will now be diving into the governance of blockchain-based applications, namely DAOs.\n",
    "\n",
    "## 📕 Learning Objectives\n",
    "\n",
    "* What are DAOs and what makes them the perfect governing entity in a web3 world.\n",
    "* Go through examples of voting mechanisms and tokenomics and compare their weaknesses and benefits.\n",
    "* Create your own DAO with which people can interact with and contribute tokens.\n",
    "\n",
    "## 📅 Weekly Progress\n",
    "\n",
    "|Week | Content | Learning Objectives|\n",
    "|:--- |:--- | :--- |\n",
    "| 1 | Hello Blockchain World | Get to know more about your classmates, the mentors, and learn about the fundamental concepts of the Blockchain, how it works, and write your first smart contract.|\n",
    "| 2 | Non-fungible Tokens (NFTs)| Learn more about Non-fungible Tokens (NFTs) and go through the protocols that make them unique and valuable. Create your own NFT collection, deploy it to a Testnet and view it on OpenSea. |\n",
    "| 3 | Decentralised Finance (DeFi)| Understand the major innovation behind DeFi, learn about the most popular DeFi protocols, and create your own cryptocurrency and DeFi project for others to interact with. |\n",
    "| 4 | GameFi & SocialFi | Discover a new field in Blockchain that has experienced explosive growth and tapped into concepts such as play-to-earn that currently push the boundaries of blockchain technology application beyond finance. Integrate your own SocialFi project with your DeFi and NFT project. |\n",
    "| **5** | **Decentralised Autonomous Orgaizations (DAOs) & Personal Project**  | **Find out why DAOs are the industries standard as the governing entity for blockchain-based organizations and how they handle voting mechanisms and tokenomics to make the entire organization function. Go through the process of building your own DAO, and pitch your own Blockchain project to the class. Successfully graduate from the Bootcamp and receive your Blockchain certification.** |"
   ]
  },
  {
   "cell_type": "markdown",
   "metadata": {},
   "source": [
    "---\n",
    "legend  \n",
    "✅ = finished\n",
    "🟡 = in process\n",
    "\n",
    "----\n",
    "outline\n",
    "\n",
    "1. what is a DAO\n",
    "2. governance\n",
    "    - on-chain voting\n",
    "        - pros: transparency\n",
    "        - cons: gas problem\n",
    "    - off-chain voting\n",
    "        - voting happens on IPFS\n",
    "        - result stored on change\n",
    "2. voting mechanism\n",
    "    - Example:\n",
    "        - compound example (voting)\n",
    "        - snapshot example (forum)\n",
    "        - zodiac\n",
    "        - gnosis safe\n",
    "        - Taliyah\n",
    "    - Methods:\n",
    "        - Governance Token Voting Power\n",
    "            - Benefits + Issues\n",
    "            - Token + NFT\n",
    "            - No punishment\n",
    "        - Skin in the game\n",
    "            - Decision is recorded\n",
    "            - If bad --> punished (what is bad?)\n",
    "        - Proof of Personhood participation\n",
    "            - Sybil Resistance\n",
    "    - How does voting work?\n",
    "\n",
    "3. Tooling\n",
    "    - DAO Stack\n",
    "    - Eragon\n",
    "    - colony\n",
    "    - DAO house\n",
    "4. Legality\n",
    "    - legal structures\n",
    "    - legally recognised dao in wyoming\n",
    "----  "
   ]
  },
  {
   "cell_type": "markdown",
   "metadata": {},
   "source": [
    "## DAOs - The governing entity living on the blockchain."
   ]
  },
  {
   "cell_type": "markdown",
   "metadata": {},
   "source": [
    "### What is a DAO?\n",
    "\n",
    "DAO stands for **D**ecentralised **A**utonomous **O**rganization. In its simplest form you can imagine it as a group of people with a joint bank acccount (= treasury). Since its decentralised, there is no single stakeholders who controls it's assets, and a community voting process is required to make decisions. Individuals can become part of a DAO by investing currency and exchanging it for the native token that governs the DAO. Their money is added to the treasury of the DAO, and the received tokens for their payment represent their stake and ownership which are necessary to participate in any votes that is posed by the community to the community. Additionally, the value of the DAOs native token can appreciate benefitting all stakeholders. \n",
    "\n",
    "Below you can see how a DAO functions in comparison to a traditional company.\n",
    "\n",
    "<img src=\"https://www.dropbox.com/s/86wr42ruz948igi/DAO%20structure.png?raw=1\" alt=\"dao_structure\" width=\"400\"/>\n",
    "\n",
    "While this might be easy to comprehend at first, the implications of what a DAO could mean to the blockchain community are huge. To put this into perspective, let's dive into an example of \"The DAO\", which at one point controlled approximately 14% of all ether (ETH) in circulation."
   ]
  },
  {
   "cell_type": "markdown",
   "metadata": {},
   "source": [
    "#### Use Case: The DAO"
   ]
  },
  {
   "cell_type": "markdown",
   "metadata": {},
   "source": [
    "In the beginning of May 2016, members of the Ethereum ecosystem announced the founding of the DAO, also known as Genesis DAO. The idea was simple. The DAO intended to operate like a venture capital fund to invest into projects in web3. During a creation period anyone was allowed to send ether to a governing ethereum wallet controlled by the DAO collective. Innovators could pitch ideas to the DAO community, upon which the community would initiate a vote whether to invest or not. If invested and the projects turns into a success, the entire community benefits.\n",
    "\n",
    "Within four weeks the DAO was able to raise 12.7 million Ether (at the time around worth over 250 USD million with a ETH price of 20USD), one of the biggest fundraising efforts at the time, but then we worst case scenario occurred.\n",
    "\n",
    "On June 17th, 2016, a hacker was able to steal 3.6 million ETH within a few hours, exploiting a loophole in the smart contracts that governed the DAO. This hack affected the entire ethereum ecosystem and its price. The founder of ethereum, Vitalik Buterin reacted swiftly and initiated a hard-forck, an update to the ethereum blockchain that effectively rolled back the Ethereum network’s history to before The DAO attack and reallocated The DAO’s ether to a different smart contract so that investors could withdraw their funds. This was extremely controversial, and since the ethereum founders did not unilateral power,miners, exchanges and node operators had to agree too.\n",
    "\n",
    "After a heated debate in public forums, on July 20, 2016, at block 192,000, the Ethereum hard fork was implemented.\n",
    "\n",
    "Below you can see the fluctuation in the ethereum price during that period with a high on June 17th.\n",
    "\n",
    "<img src=\"https://www.dropbox.com/s/iwp97o9brl6x2im/EthereumPrice.png?raw=1\" alt=\"etherprice\" width=\"800\"/>\n",
    "\n",
    "This example not only shows the possible risk of DAOs but also its potential to concentrate collective wealth in a short amount of time."
   ]
  },
  {
   "cell_type": "markdown",
   "metadata": {},
   "source": [
    "#### Use Case: Others DAOs\n",
    "\n",
    "- [Compound](https://compound.finance/governance): A decentralized, blockchain-based protocol that allows you to lend and borrow crypto.\n",
    "- [BitDAO](https://www.bitdao.io/): One of the largest DAOs that collectively invests into DeFi ecosystem.\n",
    "- [Aragon](https://aragon.org/): A DAO that allows you to create your own decentralized autonomous organizations (DAOs).\n",
    "- [ConstitutionDAO](https://www.constitutiondao.com/): A single-purpose DAO raising funds to purchase an original copy of the United States Constitution.\n",
    "- ... many more\n",
    "\n",
    "After having a general understanding of what DAOs are and can do, lets dive a little more into the specifics."
   ]
  },
  {
   "cell_type": "markdown",
   "metadata": {},
   "source": [
    "### DAO Governance\n"
   ]
  },
  {
   "cell_type": "markdown",
   "metadata": {},
   "source": [
    "How to govern a DAO, is an ever-developing discussion wihin the Blockchain community. In general, you can differentiate voting into 3 different types:\n",
    "\n",
    "1. Coin Voting Governance\n",
    "2. Skin in the Game\n",
    "3. Proof of Personhood\n",
    "\n",
    "Each have their own benefits and shortcomings. In th\n",
    "\n",
    "\n",
    "\n",
    "token based voting vs skin in the game vs "
   ]
  },
  {
   "cell_type": "markdown",
   "metadata": {},
   "source": []
  },
  {
   "cell_type": "markdown",
   "metadata": {},
   "source": [
    "---"
   ]
  },
  {
   "cell_type": "markdown",
   "metadata": {},
   "source": [
    "# 📚 Reference"
   ]
  },
  {
   "cell_type": "markdown",
   "metadata": {},
   "source": [
    "References:\n",
    "https://linda.mirror.xyz/Vh8K4leCGEO06_qSGx-vS5lvgUqhqkCz9ut81WwCP2o\n",
    "https://alchemy.com/blog/how-to-start-a-dao\n",
    "https://vitalik.ca/general/2021/08/16/voting3.html"
   ]
  }
 ],
 "metadata": {
  "interpreter": {
   "hash": "ea271a8d55864f2db1b3c7d9182e9261e5d717f60008da9ec5479eef0acaf401"
  },
  "kernelspec": {
   "display_name": "Python 3.9.10 ('blockchain39')",
   "language": "python",
   "name": "python3"
  },
  "language_info": {
   "codemirror_mode": {
    "name": "ipython",
    "version": 3
   },
   "file_extension": ".py",
   "mimetype": "text/x-python",
   "name": "python",
   "nbconvert_exporter": "python",
   "pygments_lexer": "ipython3",
   "version": "3.9.10"
  },
  "orig_nbformat": 4
 },
 "nbformat": 4,
 "nbformat_minor": 2
}
