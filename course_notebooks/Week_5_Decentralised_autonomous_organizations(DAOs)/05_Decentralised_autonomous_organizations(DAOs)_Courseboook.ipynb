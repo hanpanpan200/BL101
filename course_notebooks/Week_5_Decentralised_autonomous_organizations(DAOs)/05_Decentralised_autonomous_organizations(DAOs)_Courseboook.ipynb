{
 "cells": [
  {
   "cell_type": "markdown",
   "metadata": {},
   "source": [
    "[![Open In Colab](https://colab.research.google.com/assets/colab-badge.svg)](https://colab.research.google.com/github/unpackAI/BL101/blob/main/course_notebooks/Week_5_Decentralised_autonomous_organizations%28DAOs%29/05_Decentralised_autonomous_organizations%28DAOs%29_Courseboook.ipynb)"
   ]
  },
  {
   "cell_type": "markdown",
   "metadata": {},
   "source": [
    "# 💻Welcome to Week 5 of the BC101 Bootcamp \n",
    "\n",
    "You have successfully finished the forth week! You are almost at the end of this Bootcamp. Having covered the main areas of application, we will now be diving into the governance of blockchain-based applications, namely DAOs.\n",
    "\n",
    "## 📕 Learning Objectives\n",
    "\n",
    "* What are DAOs and what makes them the perfect governing entity in a web3 world.\n",
    "* Go through examples of voting mechanisms and tokenomics and compare their weaknesses and benefits.\n",
    "* Create your own DAO with which people can interact with and contribute tokens.\n",
    "\n",
    "## 📅 Weekly Progress\n",
    "\n",
    "|Week | Content | Learning Objectives|\n",
    "|:--- |:--- | :--- |\n",
    "| 1 | Hello Blockchain World | Get to know more about your classmates, the mentors, and learn about the fundamental concepts of the Blockchain, how it works, and write your first smart contract.|\n",
    "| 2 | Non-fungible Tokens (NFTs)| Learn more about Non-fungible Tokens (NFTs) and go through the protocols that make them unique and valuable. Create your own NFT collection, deploy it to a Testnet and view it on OpenSea. |\n",
    "| 3 | Decentralised Finance (DeFi)| Understand the major innovation behind DeFi, learn about the most popular DeFi protocols, and create your own cryptocurrency and DeFi project for others to interact with. |\n",
    "| 4 | GameFi & SocialFi | Discover a new field in Blockchain that has experienced explosive growth and tapped into concepts such as play-to-earn that currently push the boundaries of blockchain technology application beyond finance. Integrate your own SocialFi project with your DeFi and NFT project. |\n",
    "| **5** | **Decentralised Autonomous Orgaizations (DAOs) & Personal Project**  | **Find out why DAOs are the industries standard as the governing entity for blockchain-based organizations and how they handle voting mechanisms and tokenomics to make the entire organization function. Go through the process of building your own DAO, and pitch your own Blockchain project to the class. Successfully graduate from the Bootcamp and receive your Blockchain certification.** |"
   ]
  },
  {
   "cell_type": "markdown",
   "metadata": {},
   "source": [
    "---\n",
    "legend  \n",
    "✅ = finished\n",
    "🟡 = in process\n",
    "\n",
    "----\n",
    "outline\n",
    "\n",
    "1. what is a DAO 🟡\n",
    "2. governance 🟡\n",
    "    - on-chain voting 🟡\n",
    "        - pros: transparency\n",
    "        - cons: gas problem\n",
    "    - off-chain voting 🟡\n",
    "        - voting happens on IPFS\n",
    "        - result stored on change\n",
    "2. voting mechanism \n",
    "    - Example:\n",
    "        - compound example (voting)\n",
    "        - snapshot example (forum)\n",
    "        - zodiac\n",
    "        - gnosis safe\n",
    "        - Taliyah\n",
    "    - Methods: (John)\n",
    "        - Governance Token Voting Power\n",
    "            - Benefits + Issues\n",
    "            - Token + NFT\n",
    "            - No punishment\n",
    "        - Skin in the game\n",
    "            - Decision is recorded\n",
    "            - If bad --> punished (what is bad?)\n",
    "        - Proof of Personhood participation\n",
    "            - Sybil Resistance\n",
    "    - How does voting work?\n",
    "3. Tooling 🟡\n",
    "    - DAO Stack\n",
    "    - Eragon\n",
    "    - colony\n",
    "    - DAO house\n",
    "4. Legality 🟡\n",
    "    - legal structures\n",
    "    - legally recognised dao in wyoming\n",
    "----  "
   ]
  },
  {
   "cell_type": "markdown",
   "metadata": {},
   "source": [
    "## DAOs - The governing entity living on the blockchain."
   ]
  },
  {
   "cell_type": "markdown",
   "metadata": {},
   "source": [
    "### What is a DAO?"
   ]
  },
  {
   "cell_type": "markdown",
   "metadata": {},
   "source": [
    ">Imagine that all of Google's users could be able to vote about what Google should do next. And all the rules were immutable, decentralized and transparent for everybody. This would solve the old problem of trust and centrality. *This is what DAOs are trying to do.*  \n",
    "\n",
    "\n",
    "<iframe width=\"560\" height=\"315\" src=\"https://www.youtube.com/embed/KHm0uUPqmVE\" title=\"YouTube video player\" frameborder=\"0\" allow=\"accelerometer; autoplay; clipboard-write; encrypted-media; gyroscope; picture-in-picture\" allowfullscreen></iframe>\n",
    "\n",
    "\n",
    "DAO stands for **D**ecentralised **A**utonomous **O**rganization. In its simplest form you can imagine it as a group of people with a joint bank acccount (= treasury). Since its decentralised, there is no single stakeholders who controls it's assets, and a community voting process is required to make decisions. Individuals can become part of a DAO by investing currency and exchanging it for the native token that governs the DAO. Their money is added to the treasury of the DAO, and the received tokens for their payment represent their stake and ownership which are necessary to participate in any votes that is posed by the community to the community. Additionally, the value of the DAOs native token can appreciate benefitting all stakeholders. \n",
    "\n",
    "Below you can see how a DAO functions in comparison to a traditional company.\n",
    "\n",
    "<img src=\"https://www.dropbox.com/s/86wr42ruz948igi/DAO%20structure.png?raw=1\" alt=\"dao_structure\" width=\"400\"/>\n",
    "\n",
    "While this might be easy to comprehend at first, the implications of what a DAO could mean to the blockchain community are huge. To put this into perspective, let's dive into an example of \"The DAO\", which at one point controlled approximately 14% of all ether (ETH) in circulation."
   ]
  },
  {
   "cell_type": "markdown",
   "metadata": {},
   "source": [
    "### How do DAOs work?\n",
    "The backbone of a DAO is its smart contract. The contract defines the rules of the organization and holds the group's treasury. Once the contract is live on Ethereum, no one can change the rules except by a vote. If anyone tries to do something that's not covered by the rules and logic in the code, it will fail. And because the treasury is defined by the smart contract too that means no one can spend the money without the group's approval either. This means that DAOs don't need a central authority. Instead, the group makes decisions collectively, and payments are automatically authorized when votes pass.    "
   ]
  },
  {
   "cell_type": "markdown",
   "metadata": {},
   "source": [
    "#### Use Case: The DAO"
   ]
  },
  {
   "cell_type": "markdown",
   "metadata": {},
   "source": [
    "In the beginning of May 2016, members of the Ethereum ecosystem announced the founding of the DAO, also known as Genesis DAO. The idea was simple. The DAO intended to operate like a venture capital fund to invest into projects in web3. During a creation period anyone was allowed to send ether to a governing ethereum wallet controlled by the DAO collective. Innovators could pitch ideas to the DAO community, upon which the community would initiate a vote whether to invest or not. If invested and the projects turns into a success, the entire community benefits.\n",
    "\n",
    "Within four weeks the DAO was able to raise 12.7 million Ether (at the time around worth over 250 USD million with a ETH price of 20USD), one of the biggest fundraising efforts at the time, but then we worst case scenario occurred.\n",
    "\n",
    "On June 17th, 2016, a hacker was able to steal 3.6 million ETH within a few hours, exploiting a loophole in the smart contracts that governed the DAO. This hack affected the entire ethereum ecosystem and its price. The founder of ethereum, Vitalik Buterin reacted swiftly and initiated a hard-forck, an update to the ethereum blockchain that effectively rolled back the Ethereum network’s history to before The DAO attack and reallocated The DAO’s ether to a different smart contract so that investors could withdraw their funds. This was extremely controversial, and since the ethereum founders did not unilateral power,miners, exchanges and node operators had to agree too.\n",
    "\n",
    "After a heated debate in public forums, on July 20, 2016, at block 192,000, the Ethereum hard fork was implemented.\n",
    "\n",
    "Below you can see the fluctuation in the ethereum price during that period with a high on June 17th.\n",
    "\n",
    "<img src=\"https://www.dropbox.com/s/iwp97o9brl6x2im/EthereumPrice.png?raw=1\" alt=\"etherprice\" width=\"800\"/>\n",
    "\n",
    "This example not only shows the possible risk of DAOs but also its potential to concentrate collective wealth in a short amount of time.\n",
    "\n",
    "Other examples for DAOs are:\n",
    "- in November 2021 one DAO raised 40mio USD to [bid for one of the two last public copies of the US constitution](https://www.forbes.com/sites/abrambrown/2021/11/16/what-is-a-dao-us-constitution-sothebys-goldman/?sh=22be02de1e46)  \n",
    "- another DAO recently raised funds to [help Ukraine to fight the war against Russia](https://fortune.com/2022/03/31/ukraine-dao-crypto-donations-vitalik-buterin/)  \n",
    "- UniSwap - one of the biggest DEX transformed itself into a DAO  \n",
    "- some DAOs [raise funds for sports team ownership](https://www.coindesk.com/business/2022/03/24/larry-ellisons-sailgp-and-near-protocol-to-create-a-dao-for-sports-team-ownership/) for their members   "
   ]
  },
  {
   "cell_type": "markdown",
   "metadata": {},
   "source": [
    "#### Use Case: Others DAOs\n",
    "\n",
    "- [Compound](https://compound.finance/governance): A decentralized, blockchain-based protocol that allows you to lend and borrow crypto.\n",
    "- [BitDAO](https://www.bitdao.io/): One of the largest DAOs that collectively invests into DeFi ecosystem.\n",
    "- [Aragon](https://aragon.org/): A DAO that allows you to create your own decentralized autonomous organizations (DAOs).\n",
    "- [ConstitutionDAO](https://www.constitutiondao.com/): A single-purpose DAO raising funds to purchase an original copy of the United States Constitution.\n",
    "- ... many more\n",
    "\n",
    "After having a general understanding of what DAOs are and can do, lets dive a little more into the specifics."
   ]
  },
  {
   "cell_type": "markdown",
   "metadata": {},
   "source": []
  },
  {
   "cell_type": "markdown",
   "metadata": {},
   "source": [
    "## DAO Governance\n",
    "**Blockchain Governance vs DAO Governance**  \n",
    "Blockchain governance refers to the entire set of processes and rules enacted on the platform that regulate its core functionality, ownership, consensus mechanism, potential changes, and future direction. \n",
    "DAO governance is similar: it can include blockchain governance if the blockchain is organized as a DAO. Or it defines basic voting rights in the simplest setup. \n",
    "\n",
    "**DAO Membership**  \n",
    "The DAO membership can determine how voting works, how tokens can be transferred and other key parts of a DAO. DAO membership can be:  \n",
    "1. **Token-based**: Membership is simply granted by owning the token. Depending on the token the membership can be open to everybody and traded on a DEX or restricted to specific person (e.g. miners, founders). *Typically used to govern broad decentralized protocols and/or tokens themselves.*   \n",
    "2. **Share-based**: Shares represent voting rights. Membership can be gained by submitting a proposal. Shares can be bought (e.g. by tokens) or given in exchange of work.  *Typically used for more closer-knit, human-centric organizations like charities, worker collectives, and investment clubs*.   \n",
    "3. **Membership-based**: *Typically used for decentralized development and governance of protocols and dapps.*"
   ]
  },
  {
   "cell_type": "markdown",
   "metadata": {},
   "source": [
    "DAOs are new in practice and they are sensitive because once setup the governance structure is difficult or impossible to change. Sensitive parameters are:  \n",
    "- who votes?  \n",
    "- how many votes?  \n",
    "- when are the votes active?  \n",
    "- how to protect against Flash Loan attacks?\n",
    "- how to deal with upgrades in the future?\n",
    "- etc. \n",
    "\n",
    "Creating a DAO is simple:  \n",
    "1. creating the smart contract for the governance structure  \n",
    "2. issuing tokens (for voting and to raise captial) \n",
    "3. start operating (by voting)"
   ]
  },
  {
   "cell_type": "markdown",
   "metadata": {},
   "source": [
    "### DAOs vs Traditional Organizations\n",
    ">DAOs provide higher levels of transparency while reducing bureaucracy. They can minimize existing principal-agent dilemmas of organizations and therefore moral hazards. Tokens provide incentives to automatically align interests in the absence of third parties.\n",
    "\n",
    "![](https://www.dropbox.com/s/rrd15hnvls3jvw5/traditional_organization-vs-DAO.png?raw=1)  \n",
    "\n",
    "In traditional organizations all members have legal contracts which constitutes the relationship among the members and toward the organization: employment contracts, constitutional law in democracies, membership contract in clubs, etc. The motivation for the members to engage in the organisation (incentives) are salary, the voting outcome, the benefits of joining the club, etc.\n",
    "\n",
    "DAOs, on the other hand, involve a set of people interacting with each other according to a self-enforcing open-source protocol. Instead of legal contracts, DAOs use a majority consensus defined in smart contracts and executed with tokens. Blockchains and smart contracts reduce transaction costs of management. Individual behaviour is incentivized with a token to collectively contribute to a common goal. Members of a DAO are not bound together by a legal entity, although the legal situation differs between countries and purpose of the DAO (👉🏻 Legality).\n",
    "\n",
    "**DAOs can solve the principal-agent dilemma**\n",
    "DAOs tackle an age-old problem of governance where the agents (e.g. manager, politicians) have the power to make decisions in behalf of the principals (e.g. shareholder, citicens). In those situations *moral hazard* can occur - a situation where the agent has an incentive to increase its exposure to risk because it does not bear the full costs of that risk. (e.g.: A manager decides a risky investment. If it is succesfull he will get a bonus payment, if it fails the shareholder will cover the losses.)  \n",
    "\n",
    "DAOs on the other hand are open-source, thus transparent and, in theory, incorruptible. All transactions of the organization are recorded and maintained on a blockchain. Interests of the members of the organization are – if designed correctly – aligned by the incentive rules tied to the native token. Proposals take the primary way for making decisions within a DAO, which are voted for by majority consensus of involved network actors. As such, DAOs can be seen as distributed organisms, or distributed Internet tribes, that live on the Internet and exist autonomously, but also heavily rely on specialist individuals or smaller organisations to perform certain tasks that cannot be replaced with automation. \n",
    "\n",
    "As opposed to traditional companies that are structured in a top-down manner, with many layers of management and bureaucratic coordination, DAOs provide an operating system for people and institutions that do not know nor trust each other, who might live in different geographical areas, speak different languages, and therefore be subject to different jurisdictions.\n",
    "\n",
    ">*While a traditional organization requires a lot of trust in the people behind it — especially on behalf of investors — with DAOs, only the code needs to be trusted.*\n"
   ]
  },
  {
   "cell_type": "markdown",
   "metadata": {},
   "source": [
    "### On-Chain vs Off-Chain Governance (Voting)"
   ]
  },
  {
   "cell_type": "markdown",
   "metadata": {},
   "source": [
    "There are two main kinds of Governance: \n",
    "1. Off-Chain Governance\n",
    "2. On-Chain Governance\n",
    "\n",
    "||Off-Chain|On-Chain|\n",
    "|--|---|--|  \n",
    "|**PROS:** |cheaper gas|more advanced tools|\n",
    "|**CONS:** |less advanced tools|gas expensive|  \n",
    "\n",
    "As with NFTs where we could store our image on-chain or off-chain, the same basic question arises when setting up a DAO. On-chain voting means that every vote happens on the blockchain, i.e. every member of the dao\n",
    "The advantage of off-chain voting is obvious: instead of many transactions the whole voting procedure can be done within one transaction resulting in dramatically less gas costs.\n",
    "\n",
    "\n",
    " The benefits of an on-chain governance system is that it is predictable and stable. On the other side a governance structure should be flexible enough to deal with new challenges. Therefore it cannot be fully engineered in advance and has to keep the flexibility of unplanned occurances.\n",
    "\n"
   ]
  },
  {
   "cell_type": "markdown",
   "metadata": {},
   "source": [
    "How to govern a DAO, is an ever-developing discussion wihin the Blockchain community. In general, you can differentiate voting into 3 different types:\n",
    "\n",
    "1. Coin Voting Governance\n",
    "2. Skin in the Game\n",
    "3. Proof of Personhood\n",
    "\n",
    "Each have their own benefits and shortcomings. In th\n",
    "\n",
    "\n",
    "\n",
    "token based voting vs skin in the game vs "
   ]
  },
  {
   "cell_type": "markdown",
   "metadata": {},
   "source": [
    "## Legality"
   ]
  },
  {
   "cell_type": "markdown",
   "metadata": {},
   "source": [
    "### Legal Situation\n",
    ">The precise legal status of DAOs are generally unclear and may vary by jurisdiction.   "
   ]
  },
  {
   "cell_type": "markdown",
   "metadata": {},
   "source": [
    "Although described by the [New York Times](https://www.nytimes.com/interactive/2022/03/18/technology/what-are-daos.html) as a \"group chat with a bank account\" DAOs become increasingly prominent by funding projects, investing in companies, and employing people or organizations. \n",
    "\n",
    "As a consequence the question arises *how is the legal situation of DAOs?* Let's dive into a few questions which are important:   \n",
    "\n",
    "In some countries, like Austria for example, there are trends in the legal literature to see DAOs as a civil law partnership.\n",
    "\n",
    "\n",
    "**1. Are DAO’s members personally responsible for a DAO’s liabilities?**   \n",
    "\n",
    "A US venture capital recently published an \"Entity selection framework\" for DAOs<a name=\"KER\"></a>[<sup>[KER]</sup>](#KER) - describing organizational alternatives for DAOs.\n",
    "\n",
    "**Where is the registered office of a DAO?**  \n",
    "By definition, a DAO is a blockchain-based organization operating with no central location, headquarters, or centralized decision-making authority. \n",
    "DAOs are decentralized and exists solely on a blockchain with potentially thousands of members spread across the globe. \n",
    "If someone wants to sue a DAO, where to send the accusal documents? \n",
    "\n",
    "**How does a DAO enter a legally binding contract?**  \n",
    "And are members of a DAO personal liable for any action of the DAO (beside the value of the token they invested)?  \n",
    "The problem is that some lawyers might consider a DAO as a general partnership or unincorporated association with full personal liability of its members. This unclear legal situation can make it also difficult for DAOs to find business partners as businesses and investors might be discouraged to engage with the DAO. \n",
    "\n",
    "A typical workaround is to adapt an *LLC Wrapper* for the DAO. An LLC in the USA is a limited liability company which protects its members from any personal liability and losses exceeding the companyies share capital. But personal liabiltiy can still exist in case of gross negligence - for all members or only for the managing directors, depending on the state. \n",
    "\n",
    "Most countries in the world have simular legal concepts. \n",
    "\n",
    "However, not all DAOs chose this business structure. Some worry that forming an LLC takes away the decentralization that is a key element of a DAO. \n",
    "\n",
    "3. In which cases (if any) do DAOs have to follow financial regulations? \n",
    "How is the tax situation?  \n",
    "\n",
    "**How to select the legal entity?**  \n",
    "![DAO Entity Selection Framework Flowchart](https://www.dropbox.com/s/qhcjdzbugpqbmy5/DAO-Entity-Selection-Framework-Flowchart.png?raw=1)    \n",
    "\n",
    "#### Regulation  \n",
    "In 2017, the large number of ICOs attracted the attention of the US Securities and Exchange Commission (SEC). The commission’s position was that the tokens offered in these ICOs had to be treated as securities under US law. As a consequence more and more blockchain projects followed a **dual-token model**.  The dual token model occurs when a blockchain project issues two tokens – one for fundraising and the other for utility. \n",
    "Many DAOs nowaday follow a **dual-token model** - seperating governance tokens (rights to a formal vote) and transactional tokens. But depending on the business model of the DAO it might also be \n",
    "\n",
    "### Special Case: DAOs in Wyoming\n",
    "With the purpose of making the process of a DAO becoming an LLC easier and cheaper and attracting more DAOs, the US state Wyoming enacted a statute in 2021 allowing a new legal entity — a *DAO LLC* — to be formed.  Everybody can register a DAO in Wyoming. However, a Wyoming registered agent who can receive legal mail on behalf of the DAO is needed. The inital filing fee is 100 USD and the annual filing fee is 60 USD. The name of the DAO must include \"DAO LLC\".\n",
    "\n",
    "The legal situation of DAOs is currently a hot topic and it can be expected that other US states and countries will follow Wyomings example: The US state Tennesse established a similar law recently and the US state Vermont furthermore enacted a law that allows the creation and registration of a **BBLLC**: blockchain-based limited liability company. Countries like Australia and the Marshall Islands are also considering to adapt their corporate law to DAOs.\n",
    "\n"
   ]
  },
  {
   "cell_type": "markdown",
   "metadata": {},
   "source": []
  },
  {
   "cell_type": "markdown",
   "metadata": {},
   "source": [
    "---   \n",
    "### Your Deliverables, your time to apply the theory in practice.\n",
    "\n",
    "Congratulations on getting to the end of this Notebook and no worries at all if you struggled with some of the theory and did not fully understand what was taught here as your actual learning starts from here.\n",
    "\n",
    "The ideal time of reading this, is right before the Review Session, so you have a bit of time to reflect about the learning material, identify the most confusing and hard elements of a reading, and bring them to the discussion during the Review Session. The Review session is there for you to close the gap in your current understanding of the material.\n",
    "\n",
    "For your deliverables you will have to work on the Workbook found [here](https://colab.research.google.com/github/unpackAI/BL101/blob/main/course_notebooks/Week_5_Decentralised_autonomous_organizations%28DAOs%29/05_Decentralised_autonomous_organizations%28DAOs%29_Workbook.ipynb)!"
   ]
  },
  {
   "cell_type": "markdown",
   "metadata": {},
   "source": [
    "---"
   ]
  },
  {
   "cell_type": "markdown",
   "metadata": {},
   "source": [
    "# 📚 Reference\n",
    "**Legal Situation**  \n",
    "- <sup>[KER]</sup> David Kerr, Miles Jennings, (2022). A Legal Framework for\n",
    "Decentralized Autonomous Organizations, [Part-1](https://a16zcrypto.com/wp-content/uploads/2022/06/dao-legal-framework-part-1.pdf), [Part-2](https://a16zcrypto.com/wp-content/uploads/2022/06/dao-legal-framework-part-2.pdf) 📄  <a name=\"KER\"></a> [🔙](#KER)     \n",
    "- Zack Smith, (2022). [The Legal Status of Decentralized Autonomous Organizations: Do DAOs Require New Business Structures? Some States Think So](https://www.heritage.org/government-regulation/commentary/the-legal-status-decentralized-autonomous-organizations-do-daos) 📄    \n",
    "- Wyoming Secretary of State, (2022). [Decentralized Autonomous Organization (DAO):\n",
    "Frequently Asked Questions](https://sos.wyo.gov/Business/Docs/DAOs_FAQs.pdf) 📄  "
   ]
  },
  {
   "cell_type": "markdown",
   "metadata": {},
   "source": [
    "References:\n",
    "https://linda.mirror.xyz/Vh8K4leCGEO06_qSGx-vS5lvgUqhqkCz9ut81WwCP2o\n",
    "https://alchemy.com/blog/how-to-start-a-dao\n",
    "https://vitalik.ca/general/2021/08/16/voting3.html"
   ]
  }
 ],
 "metadata": {
  "interpreter": {
   "hash": "ea271a8d55864f2db1b3c7d9182e9261e5d717f60008da9ec5479eef0acaf401"
  },
  "kernelspec": {
   "display_name": "Python 3.9.10 ('blockchain39')",
   "language": "python",
   "name": "python3"
  },
  "language_info": {
   "codemirror_mode": {
    "name": "ipython",
    "version": 3
   },
   "file_extension": ".py",
   "mimetype": "text/x-python",
   "name": "python",
   "nbconvert_exporter": "python",
   "pygments_lexer": "ipython3",
   "version": "3.9.10"
  },
  "orig_nbformat": 4
 },
 "nbformat": 4,
 "nbformat_minor": 2
}
